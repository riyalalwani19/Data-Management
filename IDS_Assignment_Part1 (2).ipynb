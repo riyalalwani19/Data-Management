{
 "cells": [
  {
   "cell_type": "markdown",
   "metadata": {},
   "source": [
    "# The First Part of the Assignment of IDS 2019-2020\n",
    "Document your results as well as the way you obtained them in this jupyter notebook. A seperate report (pdf, word etc.) is _not_ required. However, it is necessary that you provide the python code leading to your results as well as textual answers to the assignment questions in this notebook. *DO NOT CLEAR THE OUTPUT of the notebook your are submitting!* In the cases that the result of an algorithm is pdf, jpg, etc, you should attach the result to this notebook file and refer to that in the text.  \n",
    "\n",
    "Next to the jupyter notebook, submit one zip-file containing all data sets that you are asked to submit. Make sure they are easily identifiable, i.e. use names as requested in the corresponding question.\n",
    "\n",
    "Do not change the general structure of this notebook, but you can add further markdown or code cells to explain your solutions if necessary. In the end, submit this file and your created data sets in moodle.\n",
    "\n",
    "Only <font color=\"red\">one </font> group member should upload your group's solution. *Make sure to include group members' names and matriculation numbers*. If your name and student id are not included in the report, you will not receive any points!\n",
    "\n",
    "\n",
    "Hint 1: While answering the questions, you will get a better and better impression of the given data. However, feel free to compute additional results and vizualizations to motivate the decisions you need to make, for example with respect to modification, simplification or sampling of the data. <font color=\"red\"><b>Ensure that all claims you make are supported by the presented facts!</b></font>\n",
    "\n",
    "Hint 2: <font color=\"red\"><b>Some of the tasks might need some time to run. Take this into account in your planning.</b></font>\n",
    "\n",
    "Hint 3: RWTHonline allows for multiple submissions (each submission overwrites the previous ones). <font color=\"red\"><b>Partial submissions are possible and encouraged. </b></font> This helps in case of technical problems of RWTHonline, which do seldomly happen."
   ]
  },
  {
   "cell_type": "markdown",
   "metadata": {},
   "source": [
    "<font color=\"red\"><b>Student Names and IDs:\n",
    "    1. Sarika Vishnukumar Patel - 403353\n",
    "    2. Sonam Chugh - 403501\n",
    "    3. Mohit Nikumbh - 403340"
   ]
  },
  {
   "cell_type": "markdown",
   "metadata": {},
   "source": [
    "## Preprocessing of the Dataset (5 points)\n",
    " You should carry out some preprocessing steps before starting the analysis:\n",
    " - Select 90% of 'population_density' dataset by random sampling.\n",
    "     - Use one of the group member's student number as a seed.\n",
    " - Add another column to the dataset:\n",
    "     - Name it 'population_density_categorical'.\n",
    "     - The values in this column depend on values in 'population_density' column and will be defined as follows:\n",
    "        - 5824=<population density              corresponding value in 'population_density_categorical' column: 'very high'\n",
    "        - 4368=<population density<5824         corresponding value in 'population_density_categorical' column: 'high'\n",
    "        - 2912=<population density<4368         corresponding value in 'population_density_categorical' column: 'medium'\n",
    "        - 1456=<population density<2912         corresponding value in 'population_density_categorical' column: 'low' \n",
    "        - population density<1456               corresponding value in 'population_density_categorical' column: 'very low'\n",
    " - After completing this preprocessing step, export your final dataset as 'population_density_categorical.csv' dataset and use that for next steps of the assignment.\n",
    " - If it is not directly mentioned, you should always use your extracted (above-created) dataset (without any cleaning).\n",
    " - <font color='red'>Important!</font> Make sure that you submit your extracted dataset with your result in moodle."
   ]
  },
  {
   "cell_type": "code",
   "execution_count": 1,
   "metadata": {},
   "outputs": [
    {
     "name": "stdout",
     "output_type": "stream",
     "text": [
      "Completed\n"
     ]
    }
   ],
   "source": [
    "# Your code:\n",
    "# Your code:\n",
    "# Preprocessing of the Dataset \n",
    "'''\n",
    "Step - 1 : Create a new dataset, 'population_density_modified.csv' that contains 90% random data\n",
    "           of the original dataset 'population_density.csv'\n",
    "'''\n",
    "import pandas as pd\n",
    "import random\n",
    "import numpy as np\n",
    "import matplotlib.pyplot as plt\n",
    "from matplotlib import pyplot\n",
    "import seaborn as sns\n",
    "from pylab import *\n",
    "import statistics as st\n",
    "\n",
    "\n",
    "df = pd.read_csv('population_density.csv')\n",
    "modified_df = df.sample(frac=0.9,random_state=403340) #Extract 90% random data from orignal dataset\n",
    "modified_df.to_csv('population_density_modified.csv',index=False) \n",
    "\n",
    "'''\n",
    "Step - 2: To this modified file, we add a column named 'population_density_categorical' which \n",
    "          contains different values [very high, high, medium, low, very low] depending upon the (integer)\n",
    "          value of the column 'population_density'. \n",
    "'''\n",
    "\n",
    "df = pd.read_csv('population_density_modified.csv')\n",
    "df['population_density_categorical'] = '' #Create an empty column 'population_density_categorical'\n",
    "population_density_loc = df.columns.get_loc('population_density') #Get the index of column 'population_density'\n",
    "population_density_categorical_loc = df.columns.get_loc('population_density_categorical') #Get the index of column 'population_density_categorical'\n",
    "for i in range(len(df.index)): #Iterate through all the index of the dataframe \n",
    "    population_density = df.iloc[i,population_density_loc] #Get value of 'population_density' from each row\n",
    "    if population_density >= 5824:\n",
    "        df.iloc[i,population_density_categorical_loc] = 'very high'\n",
    "    elif population_density >= 4368 and population_density < 5824 :\n",
    "        df.iloc[i,population_density_categorical_loc] = 'high'\n",
    "    elif population_density >= 2912 and population_density < 4368:\n",
    "        df.iloc[i,population_density_categorical_loc] = 'medium'\n",
    "    elif population_density >= 1456 and population_density < 2912:\n",
    "        df.iloc[i,population_density_categorical_loc] = 'low'\n",
    "    else:\n",
    "        df.iloc[i,population_density_categorical_loc] = 'very low'\n",
    "df.to_csv('population_density_categorical.csv',index=False)\n",
    "print(\"Completed\")\n",
    "\n"
   ]
  },
  {
   "cell_type": "markdown",
   "metadata": {},
   "source": [
    "## Question 1 - Insights into the Data (20 points):"
   ]
  },
  {
   "cell_type": "markdown",
   "metadata": {},
   "source": [
    "### Dealing with Outliers (10 points)\n",
    "   (a) Use a boxplot to find and remove the outliers from \"temperature\". Note that based on the boxplot the values greater than upper-whisker and less than lower-whisker are considered as the outliers. Now you should  have two datasets (cleaned and original)."
   ]
  },
  {
   "cell_type": "code",
   "execution_count": 2,
   "metadata": {},
   "outputs": [
    {
     "data": {
      "image/png": "[encoded data removed]",
      "text/plain": [
       "<Figure size 432x288 with 1 Axes>"
      ]
     },
     "metadata": {
      "needs_background": "light"
     },
     "output_type": "display_data"
    },
    {
     "data": {
      "image/png": "[encoded data removed]",
      "text/plain": [
       "<Figure size 432x288 with 1 Axes>"
      ]
     },
     "metadata": {
      "needs_background": "light"
     },
     "output_type": "display_data"
    }
   ],
   "source": [
    "# Your code:\n",
    "'''\n",
    "Part - a: Creat a boxplot for the column 'temperature'. Find and remove the outliers. \n",
    "          Store new dataset as 'population_density_categorical_filtered.csv'\n",
    "'''\n",
    "df = pd.read_csv('population_density_categorical.csv')\n",
    "\n",
    "Q1 = df['temperature'].quantile(0.25) \n",
    "Q3 = df['temperature'].quantile(0.75) \n",
    "IQR = Q3 - Q1 # Find the inter-quartile range\n",
    "\n",
    "filter =((df['temperature'] >= Q1 - (1.5 * IQR)) & (df['temperature'] <= Q3 + (1.5 * IQR)))\n",
    "filter_df = df.loc[filter]  # Filter the dataframe\n",
    "\n",
    "# create new cleaned dataset after removing outliers\n",
    "filter_df.to_csv('population_density_categorical_filter.csv',index=False) \n",
    "plt.boxplot(df['temperature'], vert=False,  widths=0.5) #To plot horizontal boxplots\n",
    "plt.title(\"Before removing outliers\")\n",
    "plt.show()\n",
    "plt.boxplot(filter_df['temperature'], vert=False,  widths=0.5 )\n",
    "plt.title(\"After removing Outliers \")\n",
    "plt.show()"
   ]
  },
  {
   "cell_type": "markdown",
   "metadata": {},
   "source": [
    "   (b) Compare basic statistical features of \"temperature\" (median, mean, and mode) in the cleaned and original datasets.    Interpret the differences for these statistical values between the cleaned and original datasets. "
   ]
  },
  {
   "cell_type": "code",
   "execution_count": 3,
   "metadata": {},
   "outputs": [
    {
     "name": "stdout",
     "output_type": "stream",
     "text": [
      "Original Dataset:\n",
      "Median:  282.43\n",
      "Mean:  281.2014554444029\n",
      "Mode:  274.15 \n",
      "\n",
      "Filtered Dataset:\n",
      "Median:  282.43\n",
      "Mean:  281.2598027204605\n",
      "Mode:  274.15 \n",
      "\n",
      "Difference of mean:  0.058\n",
      "Difference of median:  0.0\n",
      "Difference of mode:  0.0\n"
     ]
    }
   ],
   "source": [
    "# Your code:\n",
    "\n",
    "'''\n",
    "Part - b: Find and print the difference in mean value, median value and mode value between the two dataset \n",
    "          'population_density_categorical.csv' and 'population_density_categorical_filtered.csv' \n",
    "'''\n",
    "\n",
    "df = pd.read_csv('population_density_categorical.csv')\n",
    "filtered_df = pd.read_csv('population_density_categorical_filter.csv')\n",
    "\n",
    "# show the statistical features(median,mean and mode) of \"temperature\" in original dataset\n",
    "print(\"Original Dataset:\")\n",
    "print(\"Median: \",np.median(df['temperature'])) \n",
    "print(\"Mean: \",np.mean(df['temperature']))\n",
    "print(\"Mode: \",st.mode(df['temperature']),'\\n')\n",
    "\n",
    "# show the statistical features(median,mean and mode) of \"temperature\" in cleaned dataset\n",
    "print(\"Filtered Dataset:\")\n",
    "print(\"Median: \",np.median(filtered_df['temperature']))\n",
    "print(\"Mean: \",np.mean(filtered_df['temperature']))\n",
    "print(\"Mode: \",st.mode(filtered_df['temperature']),'\\n')\n",
    "\n",
    "# show the difference of statistical features(median,mean and mode) of \"temperature\" \n",
    "print(\"Difference of mean: \",round(abs(st.mean(df['temperature'])-st.mean(filtered_df['temperature'])),3))\n",
    "print(\"Difference of median: \",round(abs(st.median(df['temperature'])-st.median(filtered_df['temperature'])),3))\n",
    "print(\"Difference of mode: \",abs(st.mode(df['temperature'])-st.mode(filtered_df['temperature'])))\n"
   ]
  },
  {
   "cell_type": "markdown",
   "metadata": {},
   "source": [
    "   (c) Compare the number of data rows before and after removing the outliers. How many data rows are removed by removing    outliers?"
   ]
  },
  {
   "cell_type": "code",
   "execution_count": 4,
   "metadata": {},
   "outputs": [
    {
     "name": "stdout",
     "output_type": "stream",
     "text": [
      "Number of row before removing the outliers:  43384\n",
      "Number of row after removing the outliers:  43375\n",
      "Number of rows removed:  9\n"
     ]
    }
   ],
   "source": [
    "# Your code:\n",
    "'''\n",
    "Part - c: Compare and print the difference in number of rows in data 'population_density_categorical.csv' and \n",
    "          'population_density_categorical_filtered.csv'\n",
    "'''\n",
    "Total_rowsbefore = df.shape[0] # print the total number of rows before removing outliers\n",
    "print(\"Number of row before removing the outliers: \",Total_rowsbefore)\n",
    "\n",
    "Total_rowsafter = filter_df.shape[0] # print the total number of rows after removing outliers\n",
    "print(\"Number of row after removing the outliers: \",Total_rowsafter)\n",
    "\n",
    "Difference = Total_rowsbefore - Total_rowsafter # get total number of rows which were removed\n",
    "print(\"Number of rows removed: \",Difference)\n"
   ]
  },
  {
   "cell_type": "markdown",
   "metadata": {},
   "source": [
    "### Basic Visualization (10 points)\n",
    "   (d) Visualize mean and median of \"population_density\" for non-'None' \"holiday\" values in the original dataset. Specify    the \"holiday\" values for which the mean of \"population_density\" is maximal and for which it is minimal.\n",
    "   "
   ]
  },
  {
   "cell_type": "code",
   "execution_count": 5,
   "metadata": {},
   "outputs": [
    {
     "data": {
      "image/png": "[encoded data removed]",
      "text/plain": [
       "<Figure size 1800x864 with 1 Axes>"
      ]
     },
     "metadata": {
      "needs_background": "light"
     },
     "output_type": "display_data"
    }
   ],
   "source": [
    "# Your code:\n",
    "'''\n",
    "Part - d: Find all the values of 'population_density_categorical.csv' where holiday is not None. Group it categorically, find \n",
    "          the mean and median of each group and plot them in a bargraph.\n",
    "'''\n",
    "import numpy as np\n",
    "import pandas as pd\n",
    "import random\n",
    "import matplotlib.pyplot as plt\n",
    "import statistics as st\n",
    "import seaborn as sns \n",
    "\n",
    "\n",
    "df = pd.read_csv('population_density_categorical.csv')\n",
    "df = df[df['holiday'] != 'None']  # Get all the rows from the dataframe where 'holiday' value is not none.\n",
    "holidays = {}\n",
    "holiday_loc = df.columns.get_loc('holiday') #Get the index of column 'holiday'\n",
    "mean_arr = []\n",
    "median_arr = []\n",
    "day_arr = []\n",
    "population_density_loc = df.columns.get_loc('population_density') #Get the index of column 'population_density'\n",
    "for i in range(len(df.index)):  # Create a dictory where key is holiday category and value is list of values\n",
    "    holiday_value = df.iloc[i,holiday_loc]\n",
    "    if holiday_value not in holidays.keys():\n",
    "        holidays[holiday_value] = []\n",
    "        holidays[holiday_value].append(df.iloc[i,population_density_loc])\n",
    "    else:\n",
    "        x = holidays[holiday_value]\n",
    "        x.append(df.iloc[i,population_density_loc])\n",
    "        holidays[holiday_value] = x\n",
    "count = 0\n",
    "for day in holidays.keys():     # Get the mean and median array for each holiday category\n",
    "    x = holidays[day]\n",
    "    day_arr.append(day)\n",
    "    count += 1\n",
    "    mean_arr.append(np.mean(x))\n",
    "    median_arr.append(np.median(x))\n",
    "n_groups = count\n",
    "\n",
    "# create plot\n",
    "fig, ax = plt.subplots(figsize=(25,12))   \n",
    "index = np.arange(n_groups)\n",
    "bar_width = 0.3\n",
    "opacity = 0.5\n",
    "\n",
    "rects1 = plt.bar(index,mean_arr, bar_width,\n",
    "alpha=opacity,\n",
    "color='b',\n",
    "label='mean')   # Mean bar\n",
    "\n",
    "rects2 = plt.bar(index + bar_width, median_arr, bar_width,\n",
    "alpha=opacity,\n",
    "color='g',\n",
    "label='median')  # Median bar\n",
    "\n",
    "plt.xlabel('Holidays')  # set label holiday on X-axis\n",
    "plt.ylabel('Population_density')  # set label Population_density on Y-axis\n",
    "plt.title('Mean and median of different holiday values') # set plot title as Mean and median of different holiday values\n",
    "plt.xticks(index + bar_width, day_arr) \n",
    "plt.legend()\n",
    "\n",
    "\n",
    "plt.show()\n",
    "\n"
   ]
  },
  {
   "cell_type": "markdown",
   "metadata": {},
   "source": [
    "   (e) Plot the distribution of \"temperature\" in the original and cleaned datasets."
   ]
  },
  {
   "cell_type": "code",
   "execution_count": 6,
   "metadata": {},
   "outputs": [
    {
     "data": {
      "image/png": "[encoded data removed]",
      "text/plain": [
       "<Figure size 432x288 with 1 Axes>"
      ]
     },
     "metadata": {
      "needs_background": "light"
     },
     "output_type": "display_data"
    },
    {
     "data": {
      "image/png": "[encoded data removed]",
      "text/plain": [
       "<Figure size 432x288 with 1 Axes>"
      ]
     },
     "metadata": {
      "needs_background": "light"
     },
     "output_type": "display_data"
    }
   ],
   "source": [
    "# Your code:\n",
    "'''\n",
    "Part - e: Create a graphical distribution of 'temperature' from both the dataset, 'population_density_categorical.csv'\n",
    "          and 'population_density_categorical_filtered.csv' \n",
    "'''\n",
    "df = pd.read_csv('population_density_categorical.csv')\n",
    "filter_df = pd.read_csv('population_density_categorical_filter.csv')\n",
    "\n",
    "plt.hist(df['temperature'], range=[200, 350],label=['original dataset']) #Plot a histogram of the temperature value from both 'original' and 'filtered' dataset\n",
    "plt.legend(loc='upper left')\n",
    "plt.show()\n",
    "\n",
    "plt.hist(filter_df['temperature'], range=[200, 350],label=['cleaned dataset']) #Plot a histogram of the temperature value from 'cleaned' dataset\n",
    "plt.legend(loc='upper left')\n",
    "plt.show()\n",
    "\n"
   ]
  },
  {
   "cell_type": "markdown",
   "metadata": {},
   "source": [
    "   (f) Explore the distribution of \"population_density\" and \"temperature\" together in the cleaned dataset. Specify the ranges of \"temperature\" and \"population_density\" for which the frequency of the data is the highest.\n",
    "   \n",
    "   Explanation: \n",
    "   As we can see from the (2D) histogram, the frequency of the data is the highest when the range is 290-295 for      'temperature'and when the range is 4500-5000 for 'poulation_density'."
   ]
  },
  {
   "cell_type": "code",
   "execution_count": 7,
   "metadata": {},
   "outputs": [
    {
     "data": {
      "image/png": "[encoded data removed]",
      "text/plain": [
       "<Figure size 432x288 with 2 Axes>"
      ]
     },
     "metadata": {
      "needs_background": "light"
     },
     "output_type": "display_data"
    }
   ],
   "source": [
    "# Your code:\n",
    "'''\n",
    "Part - f:  Create a graphical distribution of 'population_density' and 'temperature' together from the filtered dataset.\n",
    "'''\n",
    "filter_df = pd.read_csv('population_density_categorical_filter.csv')\n",
    "plt.hist2d(x=filter_df['population_density'], y=filter_df['temperature']) # Plot a heat map (2-D histogram) using the data\n",
    "plt.xlabel('population_density')\n",
    "plt.ylabel('temperature')\n",
    "cbar = plt.colorbar()\n",
    "cbar.ax.set_ylabel('population_density vs temperature')\n",
    "plt.show()\n"
   ]
  },
  {
   "cell_type": "markdown",
   "metadata": {},
   "source": [
    "## Question 2 - Decision Trees (15 points):"
   ]
  },
  {
   "cell_type": "markdown",
   "metadata": {},
   "source": [
    "   (a) Add a categorical temperature column to the cleaned dataset based on the following rules and name it                \"temperature_categorical\":\n",
    "        - temperature >= upper_quartile (third quartile) corresponding value in 'temperature_categorical' column: 'high'\n",
    "        - temperature <= lower_quartile (first quartile) corresponding value in 'temperature_categorical' column: 'low'\n",
    "        - lower_quartile < temperature < upper_quartile corresponding value in 'temperature_categorical' column: 'medium'"
   ]
  },
  {
   "cell_type": "code",
   "execution_count": 8,
   "metadata": {},
   "outputs": [
    {
     "name": "stdout",
     "output_type": "stream",
     "text": [
      "done\n"
     ]
    }
   ],
   "source": [
    "# Your code:\n",
    "'''\n",
    "Part - a: Create a new column 'temperature_categorical' in the filtered dataset and set its value corresponding to the \n",
    "          values of upper quartile and low quartile.\n",
    "'''\n",
    "import numpy as np\n",
    "import pandas as pd\n",
    "import random\n",
    "import matplotlib.pyplot as plt\n",
    "import graphviz \n",
    "from sklearn import tree\n",
    "from subprocess import check_output\n",
    "from p_decision_tree.DecisionTree import DecisionTree\n",
    "from os import system\n",
    "\n",
    "filter_df = pd.read_csv('population_density_categorical_filter.csv')\n",
    "filter_df['temperature_categorical'] = ''            # Create a new column having no values\n",
    "temperature_loc = filter_df.columns.get_loc('temperature')\n",
    "temperature_categorical_loc = filter_df.columns.get_loc('temperature_categorical')\n",
    "Q1 = filter_df['temperature'].quantile(0.25)        # Find the quartiles (Q1 and Q3)\n",
    "Q3 = filter_df['temperature'].quantile(0.75)\n",
    "for i in range(len(filter_df.index)):   # Set the value in 'temperature_categorical' column depending 'temperatue' column\n",
    "    temperature = filter_df.iloc[i, temperature_loc]\n",
    "    if temperature >= Q3:\n",
    "        filter_df.iloc[i, temperature_categorical_loc] = 'high'\n",
    "    elif temperature <= Q1:\n",
    "        filter_df.iloc[i, temperature_categorical_loc] = 'low'\n",
    "    else:\n",
    "        filter_df.iloc[i, temperature_categorical_loc] = 'medium'\n",
    "filter_df.to_csv(\"population_density_categorical_filter.csv\", index=False)\n",
    "print(\"done\")"
   ]
  },
  {
   "cell_type": "markdown",
   "metadata": {},
   "source": [
    "   (b) In the new dataset (created in Section 'a'), consider \"holiday\", \"temperature_categorical\", and \"weather_type\" as    the descriptive features and \"population_density_categorical\" as the target feature. Set the minimum number of samples  for splitting to 5000 and make a decision tree based on entropy."
   ]
  },
  {
   "cell_type": "code",
   "execution_count": 9,
   "metadata": {},
   "outputs": [
    {
     "name": "stdout",
     "output_type": "stream",
     "text": [
      "descriptive_features: \n",
      "Index(['holiday', 'temperature_categorical', 'weather_type'], dtype='object')\n",
      "population_density_categorical\n",
      "\n",
      "target feature:\n",
      "population_density_categorical\n",
      "Decision tree\n",
      "DT\n",
      "System entropy:  2.2308531906631788\n",
      "System gini:  None\n"
     ]
    }
   ],
   "source": [
    "# Your code:\n",
    "'''\n",
    "Part - b: Considering \"holiday\", \"temperature_categorical\", and \"weather_type\" as the descriptive features and \n",
    "          \"population_density_categorical\" as the target feature make a decision tree for 5000 samples.\n",
    "'''\n",
    "df_temp = pd.read_csv('population_density_categorical_filter.csv')\n",
    "\n",
    "columns = df_temp.columns\n",
    "descriptive_features= columns[[df_temp.columns.get_loc('holiday'),df_temp.columns.get_loc('temperature_categorical'),df_temp.columns.get_loc('weather_type')]]\n",
    "print(\"descriptive_features: \")\n",
    "print(descriptive_features)\n",
    "\n",
    "label =  columns[df_temp.columns.get_loc('population_density_categorical')]\n",
    "print(label)\n",
    "print(\"\\ntarget feature:\\n\" + label)\n",
    "\n",
    "for column in columns:\n",
    "    df_temp[column]= df_temp[column].astype(str)\n",
    "    \n",
    "data_descriptive = df_temp[descriptive_features].values\n",
    "data_label = df_temp[label].values\n",
    "\n",
    "#Making th decision tree\n",
    "decisionTree = DecisionTree(data_descriptive.tolist(), descriptive_features.tolist(), data_label.tolist(), \"entropy\")\n",
    "print('Decision tree')\n",
    "\n",
    "#Here you can pass pruning features (gain_threshold and minimum_samples)\n",
    "decisionTree.id3(0,5000)\n",
    "print('DT')\n",
    "\n",
    "#Visualizing decision tree by Graphviz\n",
    "dot = decisionTree.print_visualTree(render=True )\n",
    "\n",
    "print(\"System entropy: \", format(decisionTree.entropy))\n",
    "print(\"System gini: \", format(decisionTree.gini))\n",
    "\n",
    "# uploaded DecisionTree graph pdf on moodel. The name is visualTree.pdf"
   ]
  },
  {
   "cell_type": "markdown",
   "metadata": {},
   "source": [
    "   (c) What is the best attribute (based on entropy) for splitting the tree in the second round of ID3?  "
   ]
  },
  {
   "cell_type": "markdown",
   "metadata": {},
   "source": [
    "Explanation: \n",
    "\n",
    "For spliting the tree in second round of ID3, the best attribute which is based on entropy is according to the different types of weather such as Drizzle, Mist, Clear, Clouds, Rain, Thunderstorm etc.\n"
   ]
  },
  {
   "cell_type": "markdown",
   "metadata": {},
   "source": [
    "## Question 3 - Regression (10 points):\n",
    "\n",
    "For this question (Q3), restrict your extracted data set to the columns *holiday, temperature, rain_1h, snow_1h, clouds_percentage, date_time* and *population_density*. Drop the information on the date for *date_time* and restrict the data to time values (hour) only.\n",
    "\n",
    "We define *population_density* to be our target feature, while all other features are considered descriptive."
   ]
  },
  {
   "cell_type": "code",
   "execution_count": 10,
   "metadata": {},
   "outputs": [
    {
     "name": "stdout",
     "output_type": "stream",
     "text": [
      "done\n"
     ]
    }
   ],
   "source": [
    "# Your code:\n",
    "'''\n",
    "We restrict our dataset to the columns holiday, temperature, rain_1h, snow_1h, clouds_percentage, date_time \n",
    "and population_density. We also modify our date_time column to hold the value in hour only. We also define \n",
    "population_density to be our target feature.\n",
    "'''\n",
    "import pandas as pd\n",
    "import numpy as np\n",
    "import matplotlib.pyplot as plt\n",
    "from sklearn import preprocessing\n",
    "from sklearn.preprocessing import MaxAbsScaler\n",
    "from sklearn.model_selection import train_test_split\n",
    "from sklearn.linear_model import LinearRegression\n",
    "from sklearn.metrics import mean_squared_error, mean_absolute_error , median_absolute_error\n",
    "\n",
    "df = pd.read_csv('population_density_categorical_filter.csv')\n",
    "df['date_time'] = pd.to_datetime(df.date_time).dt.hour #Changing date time values to time(hour) only\n",
    "\n",
    "df1 = df[['holiday', 'temperature', 'rain_1h','snow_1h','clouds_percentage','date_time','population_density']] \n",
    "\n",
    "X = df1[['holiday', 'temperature', 'rain_1h','snow_1h','clouds_percentage','date_time']] #the descriptive features\n",
    "y = df1['population_density'] #target Feature\n",
    "print('done')\n"
   ]
  },
  {
   "cell_type": "markdown",
   "metadata": {},
   "source": [
    "   (a) Which features are suitable as an input for linear regression and which need to be modified first? Why?"
   ]
  },
  {
   "cell_type": "markdown",
   "metadata": {},
   "source": [
    "Explanation:\n",
    "\n",
    "holiday,temperature, rain_1h,snow_1h,date_time are suitable for linear regression. Holiday column needs to be modified as linear regression takes only continous variables. So we will apply one hot encoding to convert holiday column to continous. "
   ]
  },
  {
   "cell_type": "markdown",
   "metadata": {},
   "source": [
    "   (b) Implement and briefly motivate an adequate modification. Print the resulting data set limited to the first two data rows."
   ]
  },
  {
   "cell_type": "markdown",
   "metadata": {},
   "source": [
    "Explanation:\n",
    "\n",
    "We have used one hot encoding to convert holiday(categorical) to numerical."
   ]
  },
  {
   "cell_type": "code",
   "execution_count": 11,
   "metadata": {},
   "outputs": [
    {
     "name": "stdout",
     "output_type": "stream",
     "text": [
      "   temperature  rain_1h  snow_1h  clouds_percentage  date_time  \\\n",
      "0       288.42      0.0      0.0                  1          5   \n",
      "1       277.87      0.0      0.0                 90         23   \n",
      "\n",
      "   population_density  holiday_Christmas Day  holiday_Columbus Day  \\\n",
      "0                2935                      0                     0   \n",
      "1                1797                      0                     0   \n",
      "\n",
      "   holiday_Independence Day  holiday_Labor Day  \\\n",
      "0                         0                  0   \n",
      "1                         0                  0   \n",
      "\n",
      "   holiday_Martin Luther King Jr Day  holiday_Memorial Day  \\\n",
      "0                                  0                     0   \n",
      "1                                  0                     0   \n",
      "\n",
      "   holiday_New Years Day  holiday_None  holiday_State Fair  \\\n",
      "0                      0             1                   0   \n",
      "1                      0             1                   0   \n",
      "\n",
      "   holiday_Thanksgiving Day  holiday_Veterans Day  \\\n",
      "0                         0                     0   \n",
      "1                         0                     0   \n",
      "\n",
      "   holiday_Washingtons Birthday  \n",
      "0                             0  \n",
      "1                             0  \n"
     ]
    }
   ],
   "source": [
    "# Your code:\n",
    "'''\n",
    "Part:b - Modify the coulmn 'holiday' in order to make it continuous.\n",
    "'''\n",
    "df1 = pd.concat([df1, pd.get_dummies(df1['holiday'], prefix='holiday')],axis=1) #one hot encoding for holiday column\n",
    "df1.drop(['holiday'],axis=1, inplace=True) #removing holiday column to avoid dummy variable trap                                                              \n",
    "print(df1[:2])\n"
   ]
  },
  {
   "cell_type": "markdown",
   "metadata": {},
   "source": [
    "(c) To get a first idea about our data, plot the behaviour of the target feature (population_density) over time (date_time)."
   ]
  },
  {
   "cell_type": "code",
   "execution_count": 12,
   "metadata": {},
   "outputs": [
    {
     "data": {
      "image/png": "[encoded data removed]",
      "text/plain": [
       "<Figure size 432x288 with 1 Axes>"
      ]
     },
     "metadata": {
      "needs_background": "light"
     },
     "output_type": "display_data"
    }
   ],
   "source": [
    "# Your code:\n",
    "'''\n",
    "Part: c - Plot 'population_density' vs 'date_time'.\n",
    "'''\n",
    "plt.scatter(df['date_time'],df[['population_density']] ,marker = 'o', s = 1)  # make a scatter plot.\n",
    "plt.xlabel('date_time')       # set label as date_time on X-axis\n",
    "plt.ylabel('population_density')     # set label as population_density on Y-axis\n",
    "plt.title('population_density VS date_time ')  # set title of plot as population_density VS date_time\n",
    "plt.show()\n"
   ]
  },
  {
   "cell_type": "markdown",
   "metadata": {},
   "source": [
    "   (d) Create two distinct subsets of the data. Use sampling methods as described in the lecture. You should end up with two DIFFERENT sample data sets *RegA, RegB*. Include these data sets in the submitted data set zip file. \n",
    "   \n",
    "   Which sampling methods did you choose and why? Which one do you expect to result in a better classifier?"
   ]
  },
  {
   "cell_type": "code",
   "execution_count": 13,
   "metadata": {},
   "outputs": [],
   "source": [
    "# Your code:\n",
    "'''\n",
    "Part:d - Create 2 distinct datasets using random sampling and first-n sampling alogrithms\n",
    "'''\n",
    "n_rows = len(df1.index)\n",
    "RegA = df1.head(int(n_rows*0.7)) #First-n-sampling (Top Sampling)\n",
    "RegB = df1.sample(frac=0.7, random_state=403340) #Random sampling\n",
    "RegA.to_csv('RegA.csv',index=False)\n",
    "RegB.to_csv('RegB.csv',index=False)\n"
   ]
  },
  {
   "cell_type": "markdown",
   "metadata": {},
   "source": [
    "Explanation:\n",
    "\n",
    "Top Sampling and Random Sampling are the two methods. Since we do not have classes we cannot choose other sampling methods like stratified sampling. Out of these two, random sampling method seems as a better classifier as it samples data randomly. \n"
   ]
  },
  {
   "cell_type": "markdown",
   "metadata": {},
   "source": [
    "   (e) Train a linear regression classifier based on each of the two sample data sets *RegA, RegB* created before."
   ]
  },
  {
   "cell_type": "code",
   "execution_count": 14,
   "metadata": {},
   "outputs": [
    {
     "name": "stdout",
     "output_type": "stream",
     "text": [
      "done\n"
     ]
    }
   ],
   "source": [
    "# Your code:\n",
    "'''\n",
    "Part:e - Create and train a linear regression classifier based on the two dataset created in the above question.\n",
    "'''\n",
    "#TOP Sampling\n",
    "df_RegA = pd.read_csv('RegA.csv')\n",
    "\n",
    "features = df_RegA.columns.tolist()\n",
    "features.remove('population_density') #we use all as descriptive features, but not the target feature\n",
    "X_A = df_RegA[features]\n",
    "y_A = df_RegA['population_density']\n",
    "\n",
    "#Dividing data set into training and test \n",
    "X_train_A, X_test_A, y_train_A, y_test_A = train_test_split(X_A, y_A, test_size = 0.2, random_state = 403340)\n",
    "\n",
    "#Feature scaling and Normalization: As we have different quantities like kelvin,hour etc,to make attributes of \n",
    "#same scale and get better results.\n",
    "\n",
    "masX_train = MaxAbsScaler().fit_transform(X_train_A)\n",
    "X_train_A = preprocessing.normalize(masX_train)\n",
    "\n",
    "masX_test = MaxAbsScaler().fit_transform(X_test_A)\n",
    "X_test_A = preprocessing.normalize(masX_test)\n",
    "\n",
    "regressor = LinearRegression()  \n",
    "regressor.fit(X_train_A, y_train_A)\n",
    "\n",
    "y_pred_A = regressor.predict(X_test_A)\n",
    "interceptA = regressor.intercept_\n",
    "slopeA = regressor.coef_\n",
    "\n",
    "#Random Sampling\n",
    "df_RegB = pd.read_csv('RegB.csv')\n",
    "\n",
    "features = df_RegB.columns.tolist()\n",
    "features.remove('population_density') #we use all descriptive features, but not the target feature\n",
    "X_B = df_RegB[features]\n",
    "y_B = df_RegB['population_density']\n",
    "\n",
    "#Dividing data set into training and test \n",
    "X_train_B, X_test_B, y_train_B, y_test_B = train_test_split(X_B, y_B, test_size = 0.2, random_state = 403340)\n",
    "\n",
    "#Feature scaling and Normalization\n",
    "\n",
    "masX_train = MaxAbsScaler().fit_transform(X_train_B)\n",
    "X_train_B = preprocessing.normalize(masX_train)\n",
    "\n",
    "masX_test = MaxAbsScaler().fit_transform(X_test_B)\n",
    "X_test_B = preprocessing.normalize(masX_test)\n",
    "\n",
    "regressor = LinearRegression()  \n",
    "regressor.fit(X_train_B, y_train_B)\n",
    "\n",
    "y_pred_B = regressor.predict(X_test_B)\n",
    "interceptB = regressor.intercept_\n",
    "slopeB = regressor.coef_\n",
    "\n",
    "print(\"done\")\n"
   ]
  },
  {
   "cell_type": "markdown",
   "metadata": {},
   "source": [
    "(f) Visualize both computed regression functions in one plot each, combined with the original data set. For example, you can show a plot similar to 3(c) and insert the regression functions result."
   ]
  },
  {
   "cell_type": "code",
   "execution_count": 15,
   "metadata": {},
   "outputs": [
    {
     "data": {
      "image/png": "[encoded data removed]",
      "text/plain": [
       "<Figure size 432x288 with 1 Axes>"
      ]
     },
     "metadata": {
      "needs_background": "light"
     },
     "output_type": "display_data"
    },
    {
     "data": {
      "image/png": "[encoded data removed]",
      "text/plain": [
       "<Figure size 432x288 with 1 Axes>"
      ]
     },
     "metadata": {
      "needs_background": "light"
     },
     "output_type": "display_data"
    }
   ],
   "source": [
    "# Your code:\n",
    "'''\n",
    "Part:f - Create a plot for each dataset used in above question and visualize the behaviour regression function against \n",
    "         each dataset.\n",
    "'''\n",
    "import matplotlib.pyplot as plt\n",
    "import seaborn as sns, numpy as np\n",
    "\n",
    "#visualize original data point\n",
    "tempA = slopeA[-1] * df_RegA['date_time']\n",
    "plt.scatter(df_RegA['date_time'], df_RegA['population_density'] ,marker = 'o', s = 1)\n",
    "plt.plot(df_RegA['date_time'], tempA + interceptA)\n",
    "plt.xlabel('date_time') \n",
    "plt.ylabel('population_density')\n",
    "plt.title('population_density VS date_time - RegA') \n",
    "plt.show()\n",
    "\n",
    "tempB = slopeB[-1]*df_RegB['date_time']\n",
    "plt.scatter(df_RegB['date_time'], df_RegB['population_density'] ,marker = 'o', s = 1)\n",
    "plt.plot(df_RegB['date_time'], tempB + interceptB)\n",
    "plt.xlabel('date_time') \n",
    "plt.ylabel('population_density')\n",
    "plt.title('population_density VS date_time - RegB') \n",
    "plt.show()\n"
   ]
  },
  {
   "cell_type": "markdown",
   "metadata": {},
   "source": [
    "   (g) For each of the two resulting models compute and print the mean squared error, mean absolute error and median squared error with respect to the original, non-sampled data set. Also, present plots showing the errors and squared errors."
   ]
  },
  {
   "cell_type": "code",
   "execution_count": 16,
   "metadata": {},
   "outputs": [
    {
     "name": "stdout",
     "output_type": "stream",
     "text": [
      "Mean squared error: 2367756.06\n",
      "Mean absolute error: 1237.31\n",
      "Root Mean Squared Error: 1538.7514622496203\n",
      "Median absolute error: 1082.61 \n",
      "\n",
      "Mean squared error: 2228032.74\n",
      "Mean absolute error: 1212.47\n",
      "Root Mean Squared Error: 1492.6596204188904\n",
      "Median absolute error: 1066.89\n"
     ]
    },
    {
     "data": {
      "image/png": "[encoded data removed]",
      "text/plain": [
       "<Figure size 432x288 with 1 Axes>"
      ]
     },
     "metadata": {
      "needs_background": "light"
     },
     "output_type": "display_data"
    },
    {
     "data": {
      "image/png": "[encoded data removed]",
      "text/plain": [
       "<Figure size 432x288 with 1 Axes>"
      ]
     },
     "metadata": {
      "needs_background": "light"
     },
     "output_type": "display_data"
    },
    {
     "data": {
      "image/png": "[encoded data removed]",
      "text/plain": [
       "<Figure size 432x288 with 1 Axes>"
      ]
     },
     "metadata": {
      "needs_background": "light"
     },
     "output_type": "display_data"
    },
    {
     "data": {
      "image/png": "[encoded data removed]",
      "text/plain": [
       "<Figure size 432x288 with 1 Axes>"
      ]
     },
     "metadata": {
      "needs_background": "light"
     },
     "output_type": "display_data"
    }
   ],
   "source": [
    "# Your code:\n",
    "'''\n",
    "Part:g - Evaluate and print the mean squared error, mean absolute error and median squared error with respect to \n",
    "         the original, non-sampled data set and visualize plots showing the errors and squared errors.\n",
    "'''\n",
    "#top sampling\n",
    "print(\"Mean squared error: %.2f\" % mean_squared_error(y_test_A, y_pred_A))\n",
    "print(\"Mean absolute error: %.2f\" % mean_absolute_error(y_test_A, y_pred_A))\n",
    "print('Root Mean Squared Error:', np.sqrt(mean_squared_error(y_test_A, y_pred_A)))\n",
    "print(\"Median absolute error: %.2f\" % median_absolute_error(y_test_A, y_pred_A),'\\n')\n",
    "\n",
    "#random Sampling\n",
    "print(\"Mean squared error: %.2f\" % mean_squared_error(y_test_B, y_pred_B))\n",
    "print(\"Mean absolute error: %.2f\" % mean_absolute_error(y_test_B, y_pred_B))\n",
    "print('Root Mean Squared Error:', np.sqrt(mean_squared_error(y_test_B, y_pred_B)))\n",
    "print(\"Median absolute error: %.2f\" % median_absolute_error(y_test_B, y_pred_B))\n",
    "\n",
    "#Plot for Top Sampling- Absolute Error\n",
    "plt.scatter(y_pred_A, (y_test_A - y_pred_A), color = \"blue\", s = 1) \n",
    "plt.title(\"Absolute Errors\")    #set title as Absolute Errors\n",
    "plt.hlines(y = 0, xmin = 0, xmax = 500, linewidth = 100) \n",
    "plt.xlabel('predicted values')   #sel label as predicted values on X-axis\n",
    "plt.ylabel('absolute error')     #sel label as squared error on Y-axis\n",
    "plt.show()\n",
    "\n",
    "#Plot for Random Sampling- Absolute Error\n",
    "plt.scatter(y_pred_B, (y_test_B - y_pred_B), color = \"red\", s = 1) \n",
    "plt.title(\"Absolute Errors\")     #set title as Absolute Errors\n",
    "plt.hlines(y = 0, xmin = 0, xmax = 500, linewidth = 100) \n",
    "plt.xlabel('predicted values')    #sel label as predicted values on X-axis\n",
    "plt.ylabel('absolute error')      #sel label as squared error on Y-axis\n",
    "plt.show()\n",
    "\n",
    "#Plot for Top Sampling- Squared Errors\n",
    "plt.scatter(y_pred_A, (y_test_A - y_pred_A) ** 2, color = \"blue\", s = 1) \n",
    "plt.title(\"Squared errors\")     #set title as Squared errors\n",
    "## plotting line for zero error \n",
    "plt.hlines(y = 0, xmin = 0, xmax = 500, linewidth = 100) \n",
    "plt.xlabel('predicted values')   #sel label as predicted values on X-axis\n",
    "plt.ylabel('squared error')       #sel label as squared error on Y-axis\n",
    "plt.show()\n",
    "\n",
    "#Plot for Random Sampling- Squared Errors\n",
    "plt.scatter(y_pred_B, (y_test_B - y_pred_B) ** 2, color = \"red\", s = 1) \n",
    "plt.title(\"Squared errors\")      #set title as Squared errors\n",
    "## plotting line for zero error \n",
    "plt.hlines(y = 0, xmin = 0, xmax = 500, linewidth = 100) \n",
    "plt.xlabel('predicted values')    #sel label as predicted values on X-axis\n",
    "plt.ylabel('squared error')   #sel label as squared error on Y-axis\n",
    "plt.show()\n"
   ]
  },
  {
   "cell_type": "markdown",
   "metadata": {},
   "source": [
    "   (h) Interpret and evaluate the two models and compare them. Why are they similar/different? Which model do you recommend and why? How do you think the applied methods could be improved to get better results?"
   ]
  },
  {
   "cell_type": "markdown",
   "metadata": {},
   "source": [
    "Explanation:\n",
    "\n",
    "Both the models are similar as the data was taken randomly in both scenarios. The only difference was that in top Sampling first N records were taken but in random sampling records were taken randomly. We will recommend Random Sampling as accuracy was better and Median absolute error was less. For increasing the accuracy we can implement PCA to decrease the dimensionality and improve the model.\n"
   ]
  },
  {
   "cell_type": "markdown",
   "metadata": {},
   "source": [
    "## Question 4 - Support Vector Machines (10 points):\n",
    "\n",
    "For this question (Q4), restrict your extracted data set to the columns *holiday, temperature, rain_1h, snow_1h, clouds_percentage, date_time* and *population_density_categorical*. For *date_time*, drop the information on the date and restrict the data to time values only.\n",
    "We define *population_density_categorical* to be our target feature, while all other features are considered descriptive.\n"
   ]
  },
  {
   "cell_type": "code",
   "execution_count": 51,
   "metadata": {},
   "outputs": [
    {
     "name": "stdout",
     "output_type": "stream",
     "text": [
      "done\n"
     ]
    }
   ],
   "source": [
    "# Your code:\n",
    "'''\n",
    "Create a new dataframe from original dataframe having the columns holiday, temperature, rain_1h, snow_1h, clouds_percentage, \n",
    "date_time and population_density_categorical. Modify the column 'date_time' to contain only hour value.\n",
    "'population_density_categorical' is the target value and all other features are descriptive.\n",
    "'''\n",
    "import pandas as pd\n",
    "import numpy as np\n",
    "from matplotlib import pyplot as plt\n",
    "from sklearn import svm\n",
    "from sklearn.svm import SVC\n",
    "from sklearn.metrics import classification_report\n",
    "\n",
    "df = pd.read_csv('population_density_categorical_filter.csv')\n",
    "df['date_time'] = pd.to_datetime(df['date_time']).dt.hour # get date_time data into time values only.\n",
    "\n",
    "#create a new dataframe with columns as mension in question\n",
    "df2 = df[['holiday', 'temperature', 'rain_1h', 'snow_1h','clouds_percentage','date_time','population_density_categorical']]\n",
    "features = df2.columns[:-1]\n",
    "x = df2[features] # descriptive features\n",
    "y = df2['population_density_categorical'] # traget features\n",
    "print(\"done\")"
   ]
  },
  {
   "cell_type": "markdown",
   "metadata": {},
   "source": [
    "   (a) Which features are suitable as an input for SVM and which need to be modified first? Modify the data as needed and provide a brief explanation."
   ]
  },
  {
   "cell_type": "code",
   "execution_count": 52,
   "metadata": {},
   "outputs": [
    {
     "name": "stdout",
     "output_type": "stream",
     "text": [
      "done\n"
     ]
    }
   ],
   "source": [
    "# Your code:\n",
    "'''\n",
    "Part:a - Create a new dataset which do not contain the column 'clouds_percentage' to improve the accuracy of the model.\n",
    "'''\n",
    "df['holiday'] = pd.get_dummies(df['holiday']) \n",
    "df2 = df[['holiday', 'temperature', 'rain_1h', 'snow_1h','clouds_percentage','date_time','population_density_categorical']]\n",
    "x = df2[['holiday','temperature','rain_1h','snow_1h','date_time']]# descriptive features\n",
    "y = df2['population_density_categorical'] # traget features\n",
    "print(\"done\")\n"
   ]
  },
  {
   "cell_type": "markdown",
   "metadata": {},
   "source": [
    "Explanation:\n",
    "\n",
    "holiday, temperature, rain_1h, snow_1h, date_time are sutaible as an input for SVM because after removing clouds_percentage column we got better accuracy. We tried different combination of input features but that time we got same accuracy. but when we not take clouds_percentage that time accuracy changed.\n",
    "holiday feature is need to modified first because it has a categorical value so  we use one hot encoding to convert it into numerical data.\n"
   ]
  },
  {
   "cell_type": "markdown",
   "metadata": {},
   "source": [
    "   (b) Divide the data set into a training set *svmTrain* and a test set *svmTest* and briefly motivate your division      strategy. Include these data sets in the data set zip file you submit. \n",
    "   \n",
    "   Hint: Training the SVMs will take longer for a large training set!"
   ]
  },
  {
   "cell_type": "code",
   "execution_count": 53,
   "metadata": {},
   "outputs": [
    {
     "name": "stdout",
     "output_type": "stream",
     "text": [
      "done\n"
     ]
    }
   ],
   "source": [
    "# Your code:\n",
    "'''\n",
    "Part:b - Create 2 dataset by diving the orignal dataset into 2 parts svmTrain which is training dataset \n",
    "         and svmTest which is test dataset.\n",
    "'''\n",
    "from sklearn.model_selection import train_test_split\n",
    "from sklearn import preprocessing\n",
    "\n",
    "# devide the dataset in SvmTrain and svmTest. We take 80:20 ration for division.\n",
    "X_Train, X_Test, y_Train, y_Test = train_test_split(x, y, test_size=0.2,random_state=403340) #split the dataset in a 80–20 ratio\n",
    "svmTrain = X_Train.join(y_Train) # merger the tarined descriptive features and target features\n",
    "svmTest = X_Test.join(y_Test) # merger the tested descriptive features and target features\n",
    "\n",
    "# Create new dataset svmTrain and svmTest\n",
    "svmTrain.to_csv(\"svmTrain.csv\", index=False)\n",
    "svmTest.to_csv(\"svmTest.csv\", index=False)\n",
    "print(\"done\")\n"
   ]
  },
  {
   "cell_type": "markdown",
   "metadata": {},
   "source": [
    "Explanation:\n",
    "\n",
    "We splited dataset in 80:20 ratio. We used 80% dataset for tranning the model and 20% dataset for testing the model. After that we create two new file for tranned and tested dataset.\n"
   ]
  },
  {
   "cell_type": "markdown",
   "metadata": {},
   "source": [
    "   (c) Use the training set to train 3 different SVMs with different combinations of the parameters. Use at least two distinct values for the parameters *kernel* and *C*."
   ]
  },
  {
   "cell_type": "code",
   "execution_count": 55,
   "metadata": {},
   "outputs": [
    {
     "name": "stdout",
     "output_type": "stream",
     "text": [
      "done\n"
     ]
    }
   ],
   "source": [
    "# Your code:\n",
    "'''\n",
    "Part:c - Using the 2 dataset i.e. the training dataset and test dataset created above, train 3 different SVM models with\n",
    "         different combinations of the parameters.\n",
    "'''\n",
    "from sklearn import metrics\n",
    "svm_model = svm.SVC(kernel = \"linear\", C = 1) # Train data with linear kernel. because it take less time to train as compare to other.\n",
    "svm_model.fit(X_Train,np.ravel(y_Train)) \n",
    "y_predict_linear = svm_model.predict(X_Test)\n",
    "\n",
    "svm_model = svm.SVC(kernel = \"rbf\", C = 0.1, gamma = \"auto\") #Train data set with RBF kernel. It give high accuracy as compared to linear and poly. \n",
    "svm_model.fit(X_Train,y_Train) \n",
    "y_predict_rbf = svm_model.predict(X_Test)\n",
    "\n",
    "svm_model = svm.SVC(kernel = \"poly\", C = 10, gamma = \"scale\", degree = 8 ) # Train data set with RBF kernel\n",
    "svm_model.fit(X_Train,np.ravel(y_Train))\n",
    "y_predict_poly = svm_model.predict(X_Test)\n",
    "\n",
    "print(\"done\")\n"
   ]
  },
  {
   "cell_type": "markdown",
   "metadata": {},
   "source": [
    "   (d) Compute and print the mean accurracy and classification report of the trained SVMs with respect to the test set (as shown in instruction)."
   ]
  },
  {
   "cell_type": "code",
   "execution_count": 56,
   "metadata": {},
   "outputs": [
    {
     "name": "stdout",
     "output_type": "stream",
     "text": [
      "Linear kernel: \n",
      "Evaluating the decision function: \n",
      " [[ 3.23881265  0.75595846  0.84197085  0.82523461  4.22949503]\n",
      " [ 4.24804941  0.89878537  3.26145882  1.84321884 -0.2797614 ]\n",
      " [ 4.26760164  0.79064194  3.26876106  2.0831573  -0.29101594]\n",
      " ...\n",
      " [ 4.27699845  0.75760162  3.26961084  2.16980328 -0.29421315]\n",
      " [ 4.27934286  0.75091453  3.26315918  2.14738719 -0.29037839]\n",
      " [ 0.75850938  4.27557282  3.2435107  -0.2683011   1.85968898]] \n",
      "\n",
      "Accuracy: \n",
      " 0.7996541786743516 \n",
      "\n",
      "Classification Report: \n",
      "               precision    recall  f1-score   support\n",
      "\n",
      "        high       0.61      0.73      0.66      2413\n",
      "         low       0.42      0.33      0.37      1367\n",
      "      medium       0.35      0.36      0.36      1575\n",
      "   very high       0.00      0.00      0.00       862\n",
      "    very low       0.70      0.88      0.78      2458\n",
      "\n",
      "    accuracy                           0.57      8675\n",
      "   macro avg       0.42      0.46      0.43      8675\n",
      "weighted avg       0.50      0.57      0.53      8675\n",
      " \n",
      "\n",
      "RBF kernel: \n",
      "Evaluating the decision function: \n",
      " [[ 3.23881265  0.75595846  0.84197085  0.82523461  4.22949503]\n",
      " [ 4.24804941  0.89878537  3.26145882  1.84321884 -0.2797614 ]\n",
      " [ 4.26760164  0.79064194  3.26876106  2.0831573  -0.29101594]\n",
      " ...\n",
      " [ 4.27699845  0.75760162  3.26961084  2.16980328 -0.29421315]\n",
      " [ 4.27934286  0.75091453  3.26315918  2.14738719 -0.29037839]\n",
      " [ 0.75850938  4.27557282  3.2435107  -0.2683011   1.85968898]] \n",
      "\n",
      "Accuracy: \n",
      " 0.7551585014409222 \n",
      "\n",
      "Classification Report: \n",
      "               precision    recall  f1-score   support\n",
      "\n",
      "        high       0.63      0.82      0.71      2413\n",
      "         low       0.69      0.50      0.58      1367\n",
      "      medium       0.65      0.30      0.41      1575\n",
      "   very high       0.52      0.68      0.59       862\n",
      "    very low       0.84      0.91      0.87      2458\n",
      "\n",
      "    accuracy                           0.69      8675\n",
      "   macro avg       0.66      0.64      0.63      8675\n",
      "weighted avg       0.69      0.69      0.67      8675\n",
      " \n",
      "\n",
      "Polynomial kernel: \n",
      "Evaluating the decision function: \n",
      " [[ 3.23881265  0.75595846  0.84197085  0.82523461  4.22949503]\n",
      " [ 4.24804941  0.89878537  3.26145882  1.84321884 -0.2797614 ]\n",
      " [ 4.26760164  0.79064194  3.26876106  2.0831573  -0.29101594]\n",
      " ...\n",
      " [ 4.27699845  0.75760162  3.26961084  2.16980328 -0.29421315]\n",
      " [ 4.27934286  0.75091453  3.26315918  2.14738719 -0.29037839]\n",
      " [ 0.75850938  4.27557282  3.2435107  -0.2683011   1.85968898]] \n",
      "\n",
      "Accuracy: \n",
      " 1.0 \n",
      "\n",
      "Classification Report: \n",
      "               precision    recall  f1-score   support\n",
      "\n",
      "        high       0.53      0.86      0.65      2413\n",
      "         low       0.61      0.52      0.56      1367\n",
      "      medium       0.53      0.37      0.44      1575\n",
      "   very high       0.00      0.00      0.00       862\n",
      "    very low       0.83      0.83      0.83      2458\n",
      "\n",
      "    accuracy                           0.62      8675\n",
      "   macro avg       0.50      0.52      0.50      8675\n",
      "weighted avg       0.57      0.62      0.59      8675\n",
      " \n",
      "\n"
     ]
    }
   ],
   "source": [
    "# Your code:\n",
    "'''\n",
    "Part:d - Evaluate the mean mean accurracy and classification report of the trained SVMs with respect to the test set.\n",
    "'''\n",
    "\n",
    "# for linear Classification Report\n",
    "print(\"Linear kernel: \")\n",
    "print('Evaluating the decision function: \\n', svm_model.decision_function(X_Test), '\\n')\n",
    "print('Accuracy: \\n', svm_model.score(X_Test,y_predict_linear), '\\n')\n",
    "print('Classification Report: \\n', classification_report(y_Test, y_predict_linear), '\\n') \n",
    "\n",
    "# for RBF Classification Report\n",
    "print(\"RBF kernel: \")\n",
    "print('Evaluating the decision function: \\n', svm_model.decision_function(X_Test), '\\n')\n",
    "print('Accuracy: \\n', svm_model.score(X_Test,y_predict_rbf), '\\n')\n",
    "print('Classification Report: \\n', classification_report(y_Test, y_predict_rbf), '\\n')\n",
    "\n",
    "# for polynomial Classification Report\n",
    "print(\"Polynomial kernel: \")\n",
    "print('Evaluating the decision function: \\n', svm_model.decision_function(X_Test), '\\n')\n",
    "print('Accuracy: \\n', svm_model.score(X_Test,y_predict_poly), '\\n')\n",
    "print('Classification Report: \\n', classification_report(y_Test, y_predict_poly), '\\n') \n"
   ]
  },
  {
   "cell_type": "markdown",
   "metadata": {},
   "source": [
    "   (e) Interpret and evaluate the 3 SVMs and compare them. Why are they similar/different? Which SVM do you recommend and why?"
   ]
  },
  {
   "cell_type": "markdown",
   "metadata": {},
   "source": [
    "Explanation:\n",
    "\n",
    "We use three different SVM kernel like Linear, RBF and polynomial. We can see from result we got good accuracy in RBF and polynomial as compared to linear kernel. Because linear kernel is used for linear hyper-plane. RBF and polynomial kernel is used for non-linear hyper-plane. Our data is non-linear so we got high accuracy result using rbf kernel. We recommend RBF kernel because it give high accuracy as compared to other. \n"
   ]
  },
  {
   "cell_type": "markdown",
   "metadata": {},
   "source": [
    "## Question 5 - Neural Networks (20 points)\n",
    "In this question consider the whole dataset that you have created in the *Preprocessing of Dataset* section. The target feature is *population_density_categorical*. \n",
    "\n",
    "To avoid performance problems, use the first 4000 rows of your dataset (you will need 2000 for training and 2000 for testing)."
   ]
  },
  {
   "cell_type": "markdown",
   "metadata": {},
   "source": [
    "   (a) What are the possible inputs of your network?\n",
    "     - Show the possible extracted features.\n",
    "     - Show the number of possible patterns of inputs for the categorical data."
   ]
  },
  {
   "cell_type": "code",
   "execution_count": 20,
   "metadata": {},
   "outputs": [
    {
     "name": "stdout",
     "output_type": "stream",
     "text": [
      "Holiday:\n",
      " None         3998\n",
      "Labor Day       2\n",
      "Name: holiday, dtype: int64 \n",
      "\n",
      "population_density:\n",
      " 356     7\n",
      "4442    6\n",
      "367     6\n",
      "375     5\n",
      "304     5\n",
      "4524    5\n",
      "409     5\n",
      "313     5\n",
      "346     5\n",
      "369     5\n",
      "382     5\n",
      "648     5\n",
      "4702    5\n",
      "368     5\n",
      "381     5\n",
      "391     5\n",
      "338     5\n",
      "2903    5\n",
      "334     4\n",
      "322     4\n",
      "811     4\n",
      "588     4\n",
      "666     4\n",
      "4760    4\n",
      "420     4\n",
      "5823    4\n",
      "4547    4\n",
      "373     4\n",
      "4454    4\n",
      "5083    4\n",
      "       ..\n",
      "4513    1\n",
      "4511    1\n",
      "2460    1\n",
      "6552    1\n",
      "407     1\n",
      "2452    1\n",
      "4772    1\n",
      "397     1\n",
      "2442    1\n",
      "4489    1\n",
      "1193    1\n",
      "425     1\n",
      "4341    1\n",
      "4525    1\n",
      "2494    1\n",
      "2504    1\n",
      "455     1\n",
      "2502    1\n",
      "2500    1\n",
      "6594    1\n",
      "2897    1\n",
      "443     1\n",
      "2478    1\n",
      "479     1\n",
      "2486    1\n",
      "2180    1\n",
      "2484    1\n",
      "433     1\n",
      "2480    1\n",
      "0       1\n",
      "Name: population_density, Length: 2855, dtype: int64\n"
     ]
    }
   ],
   "source": [
    "# Your code:\n",
    "'''\n",
    "Part:a - Create a dataset which could as an input to the neural network.\n",
    "'''\n",
    "# It show some warning when we run by using this we ignore the warning\n",
    "import sys\n",
    "import warnings\n",
    "\n",
    "if not sys.warnoptions:\n",
    "    warnings.simplefilter(\"ignore\")\n",
    "    \n",
    "import pandas as pd\n",
    "import numpy as np\n",
    "from sklearn.svm import SVC\n",
    "import matplotlib.pyplot as plt\n",
    "from sklearn.neural_network import MLPClassifier\n",
    "from sklearn.model_selection import train_test_split\n",
    "from sklearn import preprocessing\n",
    "from sklearn.preprocessing import MaxAbsScaler\n",
    "import sklearn.metrics as metric\n",
    "\n",
    "df = pd.read_csv('population_density_categorical.csv')\n",
    "\n",
    "#getting first 4000 rows\n",
    "df = df[:4000]\n",
    "print(\"Holiday:\\n\",df['holiday'].value_counts(),'\\n') # count number of possible patterns \n",
    "print(\"population_density:\\n\",df['population_density'].value_counts()) # count number of possible patterns \n",
    "df['date_time'] = pd.to_datetime(df.date_time).dt.hour\n",
    "features = df.columns[:-1] # get descriptive features\n",
    "X_neural = df[features] \n",
    "Y_neural = df['population_density_categorical'] #target feature"
   ]
  },
  {
   "cell_type": "markdown",
   "metadata": {},
   "source": [
    "Explanation:\n",
    "\n",
    "Possible extracted features: holiday, temperature, rain_1h, snow_1h,clouds_percentage,date_time and population_density. In our extracted features we have two categorical data(holiday and population_density). So we have two input patterns for holiday feature and 2855 inputs patterns for population_density feature."
   ]
  },
  {
   "cell_type": "markdown",
   "metadata": {},
   "source": [
    "   (b) Before using the Neural Network algorithm, do you think it provides an accurate result? Why? \n",
    "     - Your explanation should be supported by data."
   ]
  },
  {
   "cell_type": "markdown",
   "metadata": {},
   "source": [
    "Explanation:\n",
    "\n",
    "Yes we think that neural network provides an accurate result. we can see from dataset information we have different type of data i.e float64, int64 and object in our dataset. So it is non-linear dataset. Neural network perform better on non-linear dataset. Neural network perfom good on both categorical or numerical dataset. "
   ]
  },
  {
   "cell_type": "code",
   "execution_count": 21,
   "metadata": {},
   "outputs": [
    {
     "name": "stdout",
     "output_type": "stream",
     "text": [
      "<class 'pandas.core.frame.DataFrame'>\n",
      "RangeIndex: 4000 entries, 0 to 3999\n",
      "Data columns (total 10 columns):\n",
      "holiday                           4000 non-null object\n",
      "temperature                       4000 non-null float64\n",
      "rain_1h                           4000 non-null float64\n",
      "snow_1h                           4000 non-null float64\n",
      "clouds_percentage                 4000 non-null int64\n",
      "weather_type                      4000 non-null object\n",
      "weather_type_details              4000 non-null object\n",
      "date_time                         4000 non-null int64\n",
      "population_density                4000 non-null int64\n",
      "population_density_categorical    4000 non-null object\n",
      "dtypes: float64(3), int64(3), object(4)\n",
      "memory usage: 312.6+ KB\n",
      "None\n"
     ]
    }
   ],
   "source": [
    "# Your code:\n",
    "print(df.info())"
   ]
  },
  {
   "cell_type": "markdown",
   "metadata": {},
   "source": [
    "   (c) Which features can be used for designing your network as inputs? Why?\n",
    "       - Which features should be changed (example: from categorical to numerical or numerical to categorical)? Why? \n",
    "       - Convert the features. "
   ]
  },
  {
   "cell_type": "markdown",
   "metadata": {},
   "source": [
    "Explanation:\n",
    "\n",
    "holiday, weather_type, weather_type_details need to be converted to numerical data as Neural Network works with numerical and binary data only. Moreover we have normalized the data since the large magnitudes of the some data like population_density relative to the temperature,snow_1h data would make the neural network training process more difficult than with normalized data, because changes to the population_density would have a much greater effect than changes to the temperature,snow_1h."
   ]
  },
  {
   "cell_type": "code",
   "execution_count": 22,
   "metadata": {},
   "outputs": [],
   "source": [
    "# Your code:\n",
    "'''\n",
    "Part:c - Change the categorical features into continuous ones and remove the original columns afterwards.\n",
    "'''\n",
    "X_neural = pd.concat([X_neural, pd.get_dummies(X_neural['holiday'], prefix='holiday')],axis=1)\n",
    "X_neural = pd.concat([X_neural, pd.get_dummies(X_neural['weather_type'], prefix='weather_type')],axis=1)\n",
    "X_neural = pd.concat([X_neural, pd.get_dummies(X_neural['weather_type_details'], prefix='weather_type_details')],axis=1)\n",
    "X_neural.drop(['holiday','weather_type','weather_type_details'],axis=1, inplace=True)\n"
   ]
  },
  {
   "cell_type": "markdown",
   "metadata": {},
   "source": [
    "   (d) Train your network with default hyperparameters and return the parameters."
   ]
  },
  {
   "cell_type": "code",
   "execution_count": 23,
   "metadata": {},
   "outputs": [
    {
     "name": "stdout",
     "output_type": "stream",
     "text": [
      "accuracy= 0.812\n",
      "[(50, 100), (100, 5)]\n"
     ]
    },
    {
     "data": {
      "text/plain": [
       "2"
      ]
     },
     "execution_count": 23,
     "metadata": {},
     "output_type": "execute_result"
    }
   ],
   "source": [
    "'''\n",
    "Part:d - Train the neural network with the default hyperparameters. After training, we return the parameters. we split dataset\n",
    "         in 50:50 ratio. We uesd 50% dataset for tranning and 50% dataset for testing model.\n",
    "'''\n",
    "X_train, X_test, y_train, y_test = train_test_split(X_neural,Y_neural,test_size=0.5,random_state=403340)\n",
    "\n",
    "#normalization \n",
    "X_train = preprocessing.normalize(X_train)\n",
    "X_test = preprocessing.normalize(X_test)\n",
    "\n",
    "nn = MLPClassifier()\n",
    "a = nn.fit(X_train,y_train)\n",
    "y_pred=nn.predict(X_test)\n",
    "nn.score(X_test,y_test)\n",
    "accuracy=metric.accuracy_score(np.array(y_test).flatten(), np.array(y_pred).flatten(), normalize=True)\n",
    "print('accuracy=',accuracy)                         # show accuracy score\n",
    "\n",
    "print([coef.shape for coef in nn.coefs_])  # size of synapsis weights\n",
    "len(nn.coefs_) \n",
    "\n"
   ]
  },
  {
   "cell_type": "markdown",
   "metadata": {},
   "source": [
    "   (e) Try to find an optimized number of hidden layers and nodes. \n",
    "      - Start with default numbers and then at least go with one number above and one number below the default.\n",
    "      - Use the 2000 rows of the data for training.\n",
    "      - What are the optimized numbers of hidden layers and nodes that you have found?"
   ]
  },
  {
   "cell_type": "code",
   "execution_count": 24,
   "metadata": {},
   "outputs": [
    {
     "name": "stdout",
     "output_type": "stream",
     "text": [
      "accuracy= 0.8775\n",
      "[(50, 20), (20, 20), (20, 5)] \n",
      "\n",
      "accuracy= 0.833\n",
      "[(50, 150), (150, 5)] \n",
      "\n"
     ]
    },
    {
     "data": {
      "text/plain": [
       "2"
      ]
     },
     "execution_count": 24,
     "metadata": {},
     "output_type": "execute_result"
    }
   ],
   "source": [
    "# Your code: (number of hidden layers)\n",
    "'''\n",
    "Part:e - Find the optimized number of hidden layers and the optimized number of nodes.\n",
    "'''\n",
    "nerual_model = MLPClassifier(hidden_layer_sizes=(20,20,)) #2 hidden layers increases accuracy and may result in overfitting\n",
    "a = nerual_model.fit(X_train,y_train)\n",
    "y_pred=nerual_model.predict(X_test)\n",
    "nerual_model.score(X_test,y_test)\n",
    "#y_true = y_train\n",
    "accuracy=metric.accuracy_score(np.array(y_test).flatten(), np.array(y_pred).flatten(), normalize=True)\n",
    "print('accuracy=',accuracy)                         # show accuracy score\n",
    "\n",
    "\n",
    "print([coef.shape for coef in nerual_model.coefs_],'\\n')  # size of synapsis weights\n",
    "len(nerual_model.coefs_) \n",
    "\n",
    "nerual_model = MLPClassifier(hidden_layer_sizes=(150,))#1 hidden layer with 150 nodes increases accuracy\n",
    "a = nerual_model.fit(X_train,y_train)\n",
    "y_pred=nerual_model.predict(X_test)\n",
    "nerual_model.score(X_test,y_test)\n",
    "#y_true = y_train\n",
    "accuracy=metric.accuracy_score(np.array(y_test).flatten(), np.array(y_pred).flatten(), normalize=True)\n",
    "print('accuracy=',accuracy) \n",
    "print([coef.shape for coef in nerual_model.coefs_],'\\n')  # size of synapsis weights\n",
    "len(nerual_model.coefs_) "
   ]
  },
  {
   "cell_type": "code",
   "execution_count": 29,
   "metadata": {},
   "outputs": [
    {
     "name": "stdout",
     "output_type": "stream",
     "text": [
      "accuracy= 0.8145\n",
      "[(50, 120), (120, 5)] \n",
      "\n"
     ]
    },
    {
     "data": {
      "text/plain": [
       "2"
      ]
     },
     "execution_count": 29,
     "metadata": {},
     "output_type": "execute_result"
    }
   ],
   "source": [
    "# Your code: (number of nodes in the hidden layer)\n",
    "\n",
    "nerual_model = MLPClassifier(hidden_layer_sizes=(120,))#1 hidden layer with 170 nodes increases accuracy\n",
    "a = nerual_model.fit(X_train,y_train)\n",
    "y_pred=nerual_model.predict(X_test)\n",
    "nerual_model.score(X_test,y_test)\n",
    "#y_true = y_train\n",
    "accuracy=metric.accuracy_score(np.array(y_test).flatten(), np.array(y_pred).flatten(), normalize=True)\n",
    "print('accuracy=',accuracy) \n",
    "print([coef.shape for coef in nerual_model.coefs_],'\\n')  # size of synapsis weights\n",
    "len(nerual_model.coefs_) "
   ]
  },
  {
   "cell_type": "code",
   "execution_count": 28,
   "metadata": {},
   "outputs": [
    {
     "name": "stdout",
     "output_type": "stream",
     "text": [
      "accuracy= 0.72\n",
      "[(50, 25), (25, 5)]\n"
     ]
    },
    {
     "data": {
      "text/plain": [
       "2"
      ]
     },
     "execution_count": 28,
     "metadata": {},
     "output_type": "execute_result"
    }
   ],
   "source": [
    "# Your code: (optimized network) \n",
    "nerual_model = MLPClassifier(hidden_layer_sizes=(25,))#1 hidden layer with 25 nodes\n",
    "a = nerual_model.fit(X_train,y_train)\n",
    "y_pred=nerual_model.predict(X_test)\n",
    "nerual_model.score(X_test,y_test)\n",
    "#y_true = y_train\n",
    "accuracy=metric.accuracy_score(np.array(y_test).flatten(), np.array(y_pred).flatten(), normalize=True)\n",
    "print('accuracy=',accuracy)                         # show accuracy score\n",
    "print([coef.shape for coef in nerual_model.coefs_])  # size of synapsis weights\n",
    "len(nerual_model.coefs_) \n"
   ]
  },
  {
   "cell_type": "markdown",
   "metadata": {},
   "source": [
    "Explanation:\n",
    "We tried running a neural network model having 1 hidden layer with 150 nodes and 2 hidden layers with 20 nodes. We found the model with 2 hidden layers with 20 nodes to be more accurate.\n"
   ]
  },
  {
   "cell_type": "markdown",
   "metadata": {},
   "source": [
    "   (f) Try to train your model with one linear activation function and one non-linear activation function. Use the default number of hidden layers and nodes.\n",
    "     - Name the functions and explain how the results are different and why. \n",
    "     - You can use evaluation metrics to show which activation function works better for this data set.\n",
    "     - Use the 2000 rows of the data for training."
   ]
  },
  {
   "cell_type": "code",
   "execution_count": 30,
   "metadata": {},
   "outputs": [
    {
     "name": "stdout",
     "output_type": "stream",
     "text": [
      "accuracy= 0.8265\n",
      "[(50, 100), (100, 5)]\n"
     ]
    },
    {
     "data": {
      "text/plain": [
       "2"
      ]
     },
     "execution_count": 30,
     "metadata": {},
     "output_type": "execute_result"
    }
   ],
   "source": [
    "# Your code: (linear activation function):\n",
    "'''\n",
    "Part:f - Train the neural network model with one linear activation function and one non-linear activation function using the default number of hidden layers and nodes.\n",
    "'''\n",
    "nerual_network = MLPClassifier(activation='identity')\n",
    "a = nerual_network.fit(X_train,y_train)\n",
    "y_pred=nerual_network.predict(X_test)\n",
    "nerual_network.score(X_test,y_test)\n",
    "accuracy=metric.accuracy_score(np.array(y_test).flatten(), np.array(y_pred).flatten(), normalize=True)\n",
    "print('accuracy=',accuracy)                         # show accuracy score\n",
    "\n",
    "print([coef.shape for coef in nerual_network.coefs_])  # size of synapsis weights\n",
    "len(nerual_network.coefs_) "
   ]
  },
  {
   "cell_type": "code",
   "execution_count": 31,
   "metadata": {},
   "outputs": [
    {
     "name": "stdout",
     "output_type": "stream",
     "text": [
      "accuracy= 0.7765\n",
      "[(50, 25), (25, 5)]\n"
     ]
    },
    {
     "data": {
      "text/plain": [
       "2"
      ]
     },
     "execution_count": 31,
     "metadata": {},
     "output_type": "execute_result"
    }
   ],
   "source": [
    "# Your code: (non-linear activation function):\n",
    "'''\n",
    "code for non-linear activation function. We used 'tanh' non-linear activation function.\n",
    "'''\n",
    "\n",
    "nerual_network = MLPClassifier(activation='tanh', hidden_layer_sizes=(25,))\n",
    "a = nerual_network.fit(X_train,y_train)\n",
    "y_pred=nerual_network.predict(X_test)\n",
    "nerual_network.score(X_test,y_test)\n",
    "accuracy=metric.accuracy_score(np.array(y_test).flatten(), np.array(y_pred).flatten(), normalize=True)\n",
    "print('accuracy=',accuracy)                         # show accuracy score\n",
    "\n",
    "\n",
    "print([coef.shape for coef in nerual_network.coefs_])  # size of synapsis weights\n",
    "len(nerual_network.coefs_) "
   ]
  },
  {
   "cell_type": "markdown",
   "metadata": {},
   "source": [
    "Explanation:\n",
    "\n",
    "We have used identity as linear activation function and tanh for nonlinear activation.\n",
    "Identity is an linear activation function and it may result in overfitting. Moreover in linear, it is not possible to do back propagation, also linear activation function turns the neural network into just one layer no matter how many layers we provide. \n",
    "Tanh is an nonlinear activation function and it allows backpropagation because they have a derivative function which is related to the inputs.It is zero centered, making it easier to model inputs that have strongly negative, neutral, and strongly positive values.\n"
   ]
  },
  {
   "cell_type": "markdown",
   "metadata": {},
   "source": [
    "## Question 6 - Evaluation (10 Points)"
   ]
  },
  {
   "cell_type": "markdown",
   "metadata": {},
   "source": [
    "   (a) Consider one of the models in question 4 (c) of your choice, one neural network with optimized number of hidden layers and nodes from question 5 (e), and the neural network with non-linear activation function from question 5 (f), for a total of *three* models, together with their respective datasets. Compute the following metrics for a 3-fold cross validation performed on each model:"
   ]
  },
  {
   "cell_type": "markdown",
   "metadata": {},
   "source": [
    "- Confusion matrices on the training data (sum cell-by-cell the results of each fold)"
   ]
  },
  {
   "cell_type": "code",
   "execution_count": 2,
   "metadata": {},
   "outputs": [
    {
     "name": "stdout",
     "output_type": "stream",
     "text": [
      "TRAIN: [    1     2     3 ... 43371 43372 43373] TEST: [    0     9    12 ... 43357 43363 43374]\n",
      "TRAIN: [    0     2     3 ... 43371 43372 43374] TEST: [    1     4     7 ... 43367 43370 43373]\n",
      "TRAIN: [    0     1     4 ... 43370 43373 43374] TEST: [    2     3     5 ... 43369 43371 43372]\n",
      "(28918, 7)\n",
      "(28918,)\n",
      "confusion Matrix_SVM: \n",
      "Predicted     0     1     2     3     4    All\n",
      "True                                          \n",
      "0          8098     0     2     0     0   8100\n",
      "1             0  3386     0     0  1156   4542\n",
      "2             0    14  5482     0     0   5496\n",
      "3             0     0     0  2861     0   2861\n",
      "4             0     0     0     0  7919   7919\n",
      "All        8098  3400  5484  2861  9075  28918 \n",
      "\n",
      "confusion Matrix_Neural for MLPClassifier: \n",
      "Predicted     0     1     2     3     4    All\n",
      "True                                          \n",
      "0          7915     0    60   125     0   8100\n",
      "1             0  4221   293     0    28   4542\n",
      "2           892   271  4333     0     0   5496\n",
      "3          1061     0     0  1800     0   2861\n",
      "4             0    81     0     0  7838   7919\n",
      "All        9868  4573  4686  1925  7866  28918 \n",
      "\n",
      "confusion Matrix_Neural_linear_function: \n",
      "Predicted     0     1     2     3     4    All\n",
      "True                                          \n",
      "0          5114     0  1718  1268     0   8100\n",
      "1             0  4437    67     0    38   4542\n",
      "2            94   832  4570     0     0   5496\n",
      "3            36     0     0  2825     0   2861\n",
      "4             0    77     0     0  7842   7919\n",
      "All        5244  5346  6355  4093  7880  28918 \n",
      "\n"
     ]
    }
   ],
   "source": [
    "# Your code for the confusion matrices on the training data\n",
    "'''\n",
    "Part-a: With the help of Kfold cross validation divide dataset into 3 different set. Find the confusion matrix \n",
    "        on the test data\n",
    "'''\n",
    "import pandas as pd\n",
    "import numpy as np\n",
    "from sklearn.model_selection import train_test_split\n",
    "from sklearn.metrics import confusion_matrix\n",
    "from sklearn import svm\n",
    "from sklearn.svm import SVC\n",
    "from sklearn.linear_model import LogisticRegression\n",
    "from sklearn.metrics import accuracy_score\n",
    "from sklearn.model_selection import KFold\n",
    "from sklearn.model_selection import StratifiedKFold\n",
    "from sklearn.neural_network import MLPClassifier\n",
    "\n",
    "\n",
    "df = pd.read_csv('population_density_categorical_filter.csv')\n",
    "df = df.drop(['weather_type','weather_type_details'], axis = 1) # remove weather_type and weather_type_details from dataset\n",
    "df['holiday'] = pd.get_dummies(df['holiday']) \n",
    "\n",
    "# convert population_density_categorical in numerical format\n",
    "from sklearn.preprocessing import LabelEncoder\n",
    "gle = LabelEncoder()\n",
    "genre_labels = gle.fit_transform(df['population_density_categorical'])\n",
    "genre_mappings = {index: label for index, label in \n",
    "                  enumerate(gle.classes_)}\n",
    "\n",
    "df['population_density_categorical'] = genre_labels # Store numerical value in population_density_categorical column\n",
    "df['date_time'] = pd.to_datetime(df.date_time).dt.hour # Get the date_time in time(hour) format\n",
    "\n",
    "X_E = np.array(df.iloc[:,0:7]) # descriptive features\n",
    "Y_E = np.array(df['population_density_categorical']) # target feature\n",
    "\n",
    "# with the help of StratifiedKFold cross validation divide dataset in 3 different sets\n",
    "Kfold = StratifiedKFold(n_splits=3, random_state = 403340, shuffle=True)\n",
    "\n",
    "for train, test in Kfold.split(X_E,Y_E,groups=None):\n",
    "    print(\"TRAIN:\", train, \"TEST:\", test)\n",
    "    X_train_E, X_test_E = X_E[train], X_E[test]    # get descriptive features train and test dataset\n",
    "    y_train_E, y_test_E = Y_E[train], Y_E[test]    # get target feature train and train datset\n",
    "    \n",
    "#print the shape of train and test dataset    \n",
    "print(X_train_E.shape) \n",
    "y_train_E = np.ravel(y_train_E)\n",
    "print(np.ravel(y_train_E).shape)\n",
    "\n",
    "\n",
    "# create confusion_matrix using SVM model with polynomial kernel on Train Data    \n",
    "svm_model = svm.SVC(kernel = \"poly\", C = 10, gamma = \"scale\",degree=8) \n",
    "svm_model.fit(X_train_E,y_train_E)\n",
    "y_predict_rbf = svm_model.predict(X_train_E)\n",
    "pred_y = np.array(y_predict_rbf)\n",
    "true_y = np.array(y_train_E)\n",
    "print(\"confusion Matrix_SVM: \")\n",
    "print(pd.crosstab(np.array(true_y), np.array(pred_y), rownames=['True'], colnames=['Predicted'], margins=True),'\\n')\n",
    "\n",
    "# create confusion_matrix on Train Data using neural network with MLPClassifier\n",
    "nerual_model = MLPClassifier(hidden_layer_sizes=(25,)) #1 hidden layer with 25 nodes\n",
    "a = nerual_model.fit(X_train_E,y_train_E)\n",
    "y_pred = nerual_model.predict(X_train_E)\n",
    "pred_y = np.array(y_pred)\n",
    "true_y = np.array(y_train_E)\n",
    "print(\"confusion Matrix_Neural for MLPClassifier: \")\n",
    "print(pd.crosstab(np.array(true_y), np.array(pred_y), rownames=['True'], colnames=['Predicted'], margins=True),'\\n')\n",
    "\n",
    "# create confusion_matrix on Train Data for using neural network with MLPClassifier using linear function\n",
    "nerual_network = MLPClassifier(activation='identity')\n",
    "nerual_network = nerual_network.fit(X_train_E,y_train_E)\n",
    "y_pred_nerual = nerual_network.predict(X_train_E)\n",
    "pred_y = np.array(y_pred_nerual)\n",
    "true_y = np.array(y_train_E)\n",
    "print(\"confusion Matrix_Neural_linear_function: \")\n",
    "print(pd.crosstab(np.array(true_y), np.array(pred_y), rownames=['True'], colnames=['Predicted'], margins=True),'\\n')\n"
   ]
  },
  {
   "cell_type": "markdown",
   "metadata": {},
   "source": [
    "- Confusion matrices on the test data (sum cell-by-cell the results of each fold)"
   ]
  },
  {
   "cell_type": "code",
   "execution_count": 3,
   "metadata": {},
   "outputs": [
    {
     "name": "stdout",
     "output_type": "stream",
     "text": [
      "(14457, 7)\n",
      "(14457,)\n",
      "confusion Matrix_SVM: \n",
      " \n",
      "Predicted     0     1     2     3     4    All\n",
      "True                                          \n",
      "0          4047     0     2     1     0   4050\n",
      "1             0  1587     0     0   683   2270\n",
      "2             2     6  2740     0     0   2748\n",
      "3             0     0     0  1430     0   1430\n",
      "4             0     0     0     0  3959   3959\n",
      "All        4049  1593  2742  1431  4642  14457 \n",
      "\n",
      "confusion Matrix_Neural_5C: \n",
      "Predicted     0     1     2     3     4    All\n",
      "True                                          \n",
      "0          3435     0    48   567     0   4050\n",
      "1             0  2204    59     0     7   2270\n",
      "2           460   311  1977     0     0   2748\n",
      "3            17     0     0  1413     0   1430\n",
      "4             0    78     0     0  3881   3959\n",
      "All        3912  2593  2084  1980  3888  14457 \n",
      "\n",
      "confusion Matrix_Neural_5F: \n",
      "Predicted     0    1     2     3     4    All\n",
      "True                                         \n",
      "0          3805    0    72   173     0   4050\n",
      "1             0  997   980     0   293   2270\n",
      "2           388    0  2360     0     0   2748\n",
      "3           281    0     0  1149     0   1430\n",
      "4             0    0     0     0  3959   3959\n",
      "All        4474  997  3412  1322  4252  14457 \n",
      "\n"
     ]
    }
   ],
   "source": [
    "# Your code for the confusion matrices on the test data\n",
    "'''\n",
    "Find the confusion matrix on the test data\n",
    "''' \n",
    "print(X_test_E.shape)\n",
    "y_test_E = np.ravel(y_test_E)\n",
    "print(y_test_E.shape)\n",
    "\n",
    "# create confusion_matrix using SVM model with polynomial kernel on test Data\n",
    "svm_model = svm.SVC(kernel = \"poly\", C = 10, gamma = \"scale\",degree=8) \n",
    "svm_model.fit(X_test_E,y_test_E)\n",
    "y_predict_rbf = svm_model.predict(X_test_E)\n",
    "pred_y = np.array(y_predict_rbf)\n",
    "true_y = np.array(y_test_E)\n",
    "print(\"confusion Matrix_SVM: \\n \")\n",
    "print(pd.crosstab(np.array(true_y), np.array(pred_y), rownames=['True'], colnames=['Predicted'], margins=True),'\\n')\n",
    "\n",
    "# create confusion_matrix on Train Data using neural network with MLPClassifier\n",
    "nerual_model = MLPClassifier(hidden_layer_sizes=(20,)) #1 hidden layer with 25 nodes\n",
    "a = nerual_model.fit(X_test_E,y_test_E)\n",
    "y_pred = nerual_model.predict(X_test_E)\n",
    "pred_y = np.array(y_pred)\n",
    "true_y = np.array(y_test_E)\n",
    "print(\"confusion Matrix_Neural_5C: \")\n",
    "print(pd.crosstab(np.array(true_y), np.array(pred_y), rownames=['True'], colnames=['Predicted'], margins=True),'\\n')\n",
    "\n",
    "# create confusion_matrix on Train Data for using neural network with MLPClassifier using linear function\n",
    "nerual_network = nerual_network.fit(X_test_E,y_test_E)\n",
    "y_pred_nerual = nerual_network.predict(X_test_E)\n",
    "pred_y = np.array(y_pred_nerual)\n",
    "true_y = np.array(y_test_E)\n",
    "print(\"confusion Matrix_Neural_5F: \")\n",
    "print(pd.crosstab(np.array(true_y), np.array(pred_y), rownames=['True'], colnames=['Predicted'], margins=True),'\\n')\n",
    "\n"
   ]
  },
  {
   "cell_type": "markdown",
   "metadata": {},
   "source": [
    "- Precision, recall and F1-scores on the test data (give explicitly the result for each fold)"
   ]
  },
  {
   "cell_type": "code",
   "execution_count": 4,
   "metadata": {},
   "outputs": [
    {
     "name": "stdout",
     "output_type": "stream",
     "text": [
      "SVM accuracy:  [0.99950605 0.99623352 0.99927061 0.99930119 0.85286514]\n",
      "SVM accuracy:  [0.99925926 0.69911894 0.99708879 1.         1.        ]\n",
      "SVM accuracy:  [0.99938264 0.82164121 0.99817851 0.99965047 0.92059063] \n",
      "\n",
      "Neural 5e:  [0.87806748 0.84998072 0.94865643 0.71363636 0.99819959]\n",
      "Neural 5e:  [0.84814815 0.97092511 0.71943231 0.98811189 0.98029806]\n",
      "Neural 5e:  [0.86284853 0.90643636 0.8182947  0.828739   0.98916783] \n",
      "\n",
      "Neural 5f: [0.85046938 1.         0.69167644 0.86913767 0.93109125]\n",
      "Neural 5f: [0.93950617 0.43920705 0.8588064  0.8034965  1.        ]\n",
      "Neural 5f: [0.89277335 0.61034588 0.76623377 0.83502907 0.96431616] \n",
      "\n"
     ]
    }
   ],
   "source": [
    "# Your code for precision, recall and F1-scores on the test data\n",
    "'''\n",
    "We apply precision, recall and F1-scores on the test data and provide the result for each folds.\n",
    "'''\n",
    "from sklearn.metrics import accuracy_score, precision_score, f1_score, recall_score\n",
    "\n",
    "print(\"SVM accuracy: \",precision_score(y_test_E, y_predict_rbf, average=None))\n",
    "print(\"SVM accuracy: \",recall_score(y_test_E, y_predict_rbf, average=None))\n",
    "print(\"SVM accuracy: \",f1_score(y_test_E, y_predict_rbf, average=None), '\\n')\n",
    "\n",
    "print(\"Neural 5e: \",precision_score(y_test_E, y_pred, average=None))\n",
    "print(\"Neural 5e: \",recall_score(y_test_E, y_pred, average=None))\n",
    "print(\"Neural 5e: \",f1_score(y_test_E, y_pred, average=None), '\\n')\n",
    "\n",
    "print(\"Neural 5f:\",precision_score(y_test_E, y_pred_nerual, average=None))\n",
    "print(\"Neural 5f:\",recall_score(y_test_E, y_pred_nerual, average=None))\n",
    "print(\"Neural 5f:\",f1_score(y_test_E, y_pred_nerual, average=None), '\\n')\n",
    "\n"
   ]
  },
  {
   "cell_type": "markdown",
   "metadata": {},
   "source": [
    "- Accuracy scores on training and test data (give explicitly the result for each fold)"
   ]
  },
  {
   "cell_type": "code",
   "execution_count": 8,
   "metadata": {},
   "outputs": [
    {
     "name": "stdout",
     "output_type": "stream",
     "text": [
      "SVM_TRAIN accuracy:  0.9500311224842658\n",
      "SVM_TEST accuracy:  0.9519955730787854 \n",
      "\n",
      "Neural_Train 5e:  0.8952209696382876\n",
      "Neural_Test 5e:  0.8929930137649581 \n",
      "\n",
      "Neural_Train 5f: 0.8509924614427\n",
      "Neural_Test 5f: 0.8487238016185931\n"
     ]
    }
   ],
   "source": [
    "# Your code for accuracy scores on training and test data\n",
    "'''\n",
    "We evalute and print the accuracy score on training and test data.\n",
    "'''\n",
    "\n",
    "y_predict_rbf = svm_model.predict(X_train_E)\n",
    "print(\"SVM_TRAIN accuracy: \",accuracy_score(y_train_E, y_predict_rbf)) # accuracy scores on training data\n",
    "y_predict_rbf = svm_model.predict(X_test_E)\n",
    "print(\"SVM_TEST accuracy: \",accuracy_score(y_test_E, y_predict_rbf),'\\n') # accuracy scores on test data\n",
    "\n",
    "y_pred = nerual_model.predict(X_train_E)\n",
    "print(\"Neural_Train 5e: \",accuracy_score(y_train_E, y_pred)) # accuracy scores on training data\n",
    "y_pred = nerual_model.predict(X_test_E)\n",
    "print(\"Neural_Test 5e: \",accuracy_score(y_test_E, y_pred),'\\n') # accuracy scores on test data\n",
    "\n",
    "y_pred_nerual = nerual_network.predict(X_train_E)\n",
    "print(\"Neural_Train 5f:\",accuracy_score(y_train_E, y_pred_nerual)) # accuracy scores on training data\n",
    "y_pred_nerual = nerual_network.predict(X_test_E)\n",
    "print(\"Neural_Test 5f:\",accuracy_score(y_test_E, y_pred_nerual)) # accuracy scores on test data\n"
   ]
  },
  {
   "cell_type": "markdown",
   "metadata": {},
   "source": [
    "In order to turn numbers into insights, please comment on your findings. Motivate the answers to the following questions using the metrics and the findings in the questions 1 through 5 of the assignment."
   ]
  },
  {
   "cell_type": "markdown",
   "metadata": {},
   "source": [
    "   (b) What is, in your opinion, the best model? Motivate your answer with the correct performance metrics."
   ]
  },
  {
   "cell_type": "markdown",
   "metadata": {},
   "source": [
    "Explanation:\n",
    "Neural network is best model in our opinion. We can see from result we got the accuracy of train data and test data is comparitively higher in neural model. Because it support non-linear dataset and our dataset is non-linear. "
   ]
  },
  {
   "cell_type": "markdown",
   "metadata": {},
   "source": [
    "   (c) Does any model suffer from underfitting or overfitting? Motivate your answer with the correct performance metrics."
   ]
  },
  {
   "cell_type": "markdown",
   "metadata": {},
   "source": [
    "Explanation:\n",
    "Yes, linear regression model suffers from underfiting. As we find the 'mean sqaured error' of the linear regression model, that time its value decreases with decrease in the training dataset and its value increases with increase in traing dataset. So, this indicate that the linear regression model suffers from underfiting."
   ]
  },
  {
   "cell_type": "markdown",
   "metadata": {},
   "source": [
    "   (d) What is the effect of employing cross validation, instead of simply holding our a certain percentage of examples as test/validation set? What are the advantages and disadvantages of cross validation?"
   ]
  },
  {
   "cell_type": "markdown",
   "metadata": {},
   "source": [
    "Explanation:\n",
    "\n",
    "Cross-validation, is a model validation technique for assessing how the results of a statistical analysis will generalize to an independent data set. It is mainly used in settings where the goal is prediction, and we want to estimate how accurately a predictive model will perform in practice. For example, performing K-folds cross-validation loops through all the data and gets classification accuracy for each time, they are then averaged to give a number more representative of overall accuracy. \n",
    "\n",
    "Advantages of cross-validation:\n",
    "1) We can get more accurate estimate of out-of-sample accuracy. \n",
    "2) We can make more efficient use of data as every observation is used for both training and testing. \n",
    "3) It is simpler to examine the detailed results of the testing process.\n",
    "\n",
    "Disadvantages of cross-validation: \n",
    "1) The disadvantage of K-folds cross-validation method is that the training algorithm has to be rerun from scratch k times,        which means it takes k times as much computation to make an evaluation. \n",
    "2) The models with more accurate assumptions may make worse out-of-sample predictions.\n"
   ]
  }
 ],
 "metadata": {
  "kernelspec": {
   "display_name": "Python 3",
   "language": "python",
   "name": "python3"
  },
  "language_info": {
   "codemirror_mode": {
    "name": "ipython",
    "version": 3
   },
   "file_extension": ".py",
   "mimetype": "text/x-python",
   "name": "python",
   "nbconvert_exporter": "python",
   "pygments_lexer": "ipython3",
   "version": "3.7.3"
  }
 },
 "nbformat": 4,
 "nbformat_minor": 2
}
